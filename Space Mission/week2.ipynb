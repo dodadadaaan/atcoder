{
 "cells": [
  {
   "cell_type": "markdown",
   "metadata": {},
   "source": [
    "# 第二週ライブラリーに慣れよう(4月18日)"
   ]
  },
  {
   "cell_type": "markdown",
   "metadata": {},
   "source": [
    "今週は宇宙グループでよく使うPythonのライブラリーを扱います。使うのは主に以下の二つ＋α\n",
    " - Numpy:数値計算ライブラリー\n",
    " - Matplotlob:グラフの出力ライブラリー\n",
    " - (os:パスを指定するときなどに便利)"
   ]
  },
  {
   "cell_type": "markdown",
   "metadata": {},
   "source": [
    " ## 演習問題の提出方法\n",
    " まずは、week2のフォルダーの配下に自分の名前のFolderを作ってください。  \n",
    " Jupyter Notebook(.ipynb)で提出する場合は、自分の名前のFolderにweek2.ipynbをコピーしてください。　　  \n",
    " 拡張子.pyで提出する場合は、自分のFolderの配下にProblem1.pyのようなファイルを問題ごとに作ってください。"
   ]
  },
  {
   "cell_type": "markdown",
   "metadata": {},
   "source": [
    "## 1.Numpy\n",
    "科学技術計算ライブラリ。主に使う機能として、listよりも高速に使える配列array、数学関数のsinやcos、行列計算に便利なメソッドがある。"
   ]
  },
  {
   "cell_type": "markdown",
   "metadata": {},
   "source": [
    "### 1.1 基本的な使い方と配列\n",
    "以下に具体的な使い方を示す"
   ]
  },
  {
   "cell_type": "code",
   "execution_count": 1,
   "metadata": {},
   "outputs": [
    {
     "name": "stdout",
     "output_type": "stream",
     "text": [
      "np_list:[1 2 3 4]\n",
      "np_arange:[1.  1.5 2.  2.5 3.  3.5 4.  4.5 5.  5.5 6.  6.5 7.  7.5 8.  8.5 9.  9.5]\n",
      "np_linspace:[1.         1.44444444 1.88888889 2.33333333 2.77777778 3.22222222\n",
      " 3.66666667 4.11111111 4.55555556 5.        ]\n"
     ]
    }
   ],
   "source": [
    "import numpy as np\n",
    "np_list = np.array([1,2,3,4]) #listをnparrayに変換する方法\n",
    "print(f'np_list:{np_list}')\n",
    "\n",
    "np_arange = np.arange(1,10,0.5) #配列を楽に作る方法(始点、終点、間隔)、終点が含まれないので注意\n",
    "print(f'np_arange:{np_arange}')\n",
    "\n",
    "np_linspace = np.linspace(1,5,10) #配列を楽に作る方法(始点、終点、配列の長さ)、終点を含む\n",
    "print(f'np_linspace:{np_linspace}')"
   ]
  },
  {
   "cell_type": "markdown",
   "metadata": {},
   "source": [
    "### 1.2簡単な数学関数を使う。\n",
    "numpyで使える関数は以下のようなものがある。  \n",
    "`np.sin(x) ：三角関数`  \n",
    "`np.sqrt(x) :平方根`  \n",
    "`np.power(x,n) :xのn上を求める`  \n",
    "`np.exp(x) :指数関数`  \n",
    "具体的な使い方は以下に示す"
   ]
  },
  {
   "cell_type": "code",
   "execution_count": 2,
   "metadata": {},
   "outputs": [
    {
     "name": "stdout",
     "output_type": "stream",
     "text": [
      "2.23606797749979\n",
      "[1.         1.41421356 1.73205081 2.        ]\n"
     ]
    }
   ],
   "source": [
    "import numpy as np\n",
    "x = 5\n",
    "y = np.arange(1,5)\n",
    "print(np.sqrt(x))\n",
    "print(np.sqrt(y))"
   ]
  },
  {
   "cell_type": "markdown",
   "metadata": {},
   "source": [
    "#### $+\\alpha$ `np.roots()`の紹介\n",
    "次の方程式を解く際に使えるメソッドを紹介する。これは虚数解まで求めることができる\n",
    "$$x^2+4x+3=0$$"
   ]
  },
  {
   "cell_type": "code",
   "execution_count": 3,
   "metadata": {},
   "outputs": [
    {
     "name": "stdout",
     "output_type": "stream",
     "text": [
      "[-3. -1.]\n"
     ]
    }
   ],
   "source": [
    "import numpy as np\n",
    "x = np.array([1,4,3])#次数の高いものから配列に入れる\n",
    "ans = np.roots(x)\n",
    "print(ans)"
   ]
  },
  {
   "cell_type": "markdown",
   "metadata": {},
   "source": [
    "### 1.3 行列計算に便利なライブラリー\n",
    "宇宙グループの数値解析では、状態遷移行列の解析など何かと行列を扱うことが多いのでその時に使えるメソッドを紹介する。  \n",
    "`X = np.array([[1,2,3],[3,4,5],[4,5,6]]) :定義の仕方`  \n",
    "`X.T :転置`  \n",
    "`X = np.arange(1,10).reshape(3,3): 行と列の数を変化`  \n",
    "`np.dot(X,Y) :行列積`  \n",
    "`np.linalg.eig(X): 固有値と固有ベクトルの計算`\n",
    "固有ベクトルの取り出しには注意が必要である。  \n",
    "以下、具体的な使い方を示す。"
   ]
  },
  {
   "cell_type": "code",
   "execution_count": 4,
   "metadata": {},
   "outputs": [
    {
     "name": "stdout",
     "output_type": "stream",
     "text": [
      "[[0 1 2]\n",
      " [3 4 5]\n",
      " [6 7 8]]\n",
      "[[0 3 6]\n",
      " [1 4 7]\n",
      " [2 5 8]]\n"
     ]
    }
   ],
   "source": [
    "import numpy as np\n",
    "Matrix = np.arange(9).reshape(3,3)\n",
    "print(Matrix)\n",
    "print(Matrix.T)"
   ]
  },
  {
   "cell_type": "markdown",
   "metadata": {},
   "source": [
    "### 問題１(Problem1.py)\n",
    "以下の行列の固有値と固有ベクトルを求めてください。特に、固有ベクトルは固有値ごとに出力してください。  \n",
    "$$\n",
    "A = \\left( \\begin{matrix}\n",
    "1 & 2 \\\\ \n",
    "3 & 2 \n",
    "\\end{matrix} \\right)\n",
    "$$"
   ]
  },
  {
   "cell_type": "code",
   "execution_count": 5,
   "metadata": {},
   "outputs": [],
   "source": [
    "#ここに問題１を解く\n",
    "import numpy as np\n",
    "\n",
    "a = np.array([[1, 2], [3, 2]])\n",
    "\n",
    "a_eig = np.linalg.eig(a)\n",
    "\n",
    "#固有値を表示\n",
    "print(\"固有値 {}\\n\".format(a_eig[0]))\n",
    "\n",
    "#固有ベクトルを表示\n",
    "print(\"固有ベクトル \\n{}\".format(a_eig[1]))\n"
   ]
  },
  {
   "cell_type": "markdown",
   "metadata": {},
   "source": [
    "# 2.Matplotlib\n",
    "Matplotlibはグラフの出力に便利なライブラリーです。宇宙グループでは、主に折れ線グラフや散布図のライブラリーを使って出力します。"
   ]
  },
  {
   "cell_type": "markdown",
   "metadata": {},
   "source": [
    "### 2.1 折れ線グラフ\n",
    "ここでは、前節で紹介したnumpyの三角関数を使って折れ線グラフを紹介します。具体的な例を以下で示します。"
   ]
  },
  {
   "cell_type": "code",
   "execution_count": 6,
   "metadata": {},
   "outputs": [
    {
     "data": {
      "image/png": "[encoded data removed]",
      "text/plain": [
       "<Figure size 432x288 with 1 Axes>"
      ]
     },
     "metadata": {
      "needs_background": "light"
     },
     "output_type": "display_data"
    }
   ],
   "source": [
    "import numpy as np\n",
    "from matplotlib import pyplot as plt\n",
    "%matplotlib inline\n",
    "#上の%~は拡張子.pyの場合は不要です。\n",
    "\n",
    "x = np.linspace(0,np.pi,100)\n",
    "y = np.sin(x)\n",
    "\n",
    "plt.plot(x,y) #ここで折れ線グラフを指定\n",
    "plt.show() #出力"
   ]
  },
  {
   "cell_type": "markdown",
   "metadata": {},
   "source": [
    "### 2.2散布図\n",
    "次に散布図について紹介します。宇宙グループだと、hill領域やポアンカレ断面の出力によく使います。具体的な例は以下です。"
   ]
  },
  {
   "cell_type": "code",
   "execution_count": 7,
   "metadata": {},
   "outputs": [
    {
     "data": {
      "image/png": "[encoded data removed]",
      "text/plain": [
       "<Figure size 432x288 with 1 Axes>"
      ]
     },
     "metadata": {
      "needs_background": "light"
     },
     "output_type": "display_data"
    }
   ],
   "source": [
    "import numpy as np\n",
    "from matplotlib import pyplot as plt\n",
    "%matplotlib inline\n",
    "\n",
    "np.random.seed(0) \n",
    "x = np.random.random(100) #0~1の間で100個の乱数を発生\n",
    "y = np.random.random(100)\n",
    "\n",
    "plt.scatter(x,y)\n",
    "plt.show()"
   ]
  },
  {
   "cell_type": "markdown",
   "metadata": {},
   "source": [
    "### 2.3グラフの装飾\n",
    "ここでは、グラフの軸のつけ方やタイトルのつけ方を紹介します。論文等に書くときはこれらが必須なので、確認してください。主な項目は以下のようなものがあります。\n",
    "\n",
    "`plt.xlabel('X')`x軸のラベル  \n",
    "`plt.ylabel('Y')`y軸のラベル  \n",
    "`plt.title('title')`図のタイトル  \n",
    "`plt.xlim('X')`x軸方向の範囲指定   \n",
    "\n",
    "他にもいろいろあるので必要に応じて調べてください。\n",
    "以下具体的です。"
   ]
  },
  {
   "cell_type": "code",
   "execution_count": 8,
   "metadata": {},
   "outputs": [
    {
     "data": {
      "image/png": "[encoded data removed]",
      "text/plain": [
       "<Figure size 432x288 with 1 Axes>"
      ]
     },
     "metadata": {
      "needs_background": "light"
     },
     "output_type": "display_data"
    }
   ],
   "source": [
    "import numpy as np\n",
    "from matplotlib import pyplot as plt\n",
    "%matplotlib inline\n",
    "\n",
    "x1 = np.linspace(0,2*np.pi, 1000)\n",
    "x2 = np.linspace(0,2*np.pi, 10)\n",
    "y1 = np.sin(x1)\n",
    "y2 = np.cos(x2)\n",
    "#色の指定や実線、破線の指定も可能。\n",
    "plt.plot(x1, y1, color='r', label='sin')\n",
    "plt.plot(x2, y2, color='b', linestyle='--', label='cos')\n",
    "#装飾\n",
    "plt.xlabel('x')\n",
    "plt.ylabel('y')\n",
    "plt.title('practice')\n",
    "plt.gca().set_aspect('equal') #xとy軸の目盛の大きさの一致\n",
    "\n",
    "#plt.legend() #グラフのラベルを表示させるのに必要\n",
    "\n",
    "plt.show()"
   ]
  },
  {
   "cell_type": "markdown",
   "metadata": {},
   "source": [
    "### 問題２(Problem2.py)\n",
    "教科書の式(1.4)と式(1.6)をもとに変数を真近点離角$f$として、楕円のグラフを書いてください。ただし、長半径$a=3$、離心率$e=0.95$として、軸名やタイトルもつけて出力してください。\n",
    "$$\n",
    "x = r\\cos{f}+ae, \\ \\ y = r\\sin{f} \\tag{1.4}\n",
    "$$\n",
    "$$\n",
    "r = \\frac{a(1-e^2)}{1+e\\cos{f}} \\tag{1.6}\n",
    "$$"
   ]
  },
  {
   "cell_type": "code",
   "execution_count": 9,
   "metadata": {},
   "outputs": [],
   "source": [
    "\n",
    "#ここに問題2を解く"
   ]
  },
  {
   "cell_type": "markdown",
   "metadata": {},
   "source": [
    "## $+\\alpha$ グラフやデータの保存"
   ]
  },
  {
   "cell_type": "markdown",
   "metadata": {},
   "source": [
    "出力した値やグラフを出力と同時に保存すると、何かと便利です。ここではosライブラリーを使ってパスを取ってきて、numpyやmatplotlibを用いて保存する方法を紹介します。"
   ]
  },
  {
   "cell_type": "markdown",
   "metadata": {},
   "source": [
    "### パスの取得\n",
    "パスは以下のようにosライブラリーを使うと簡単に取得できます。ただし、.ipynbだとうまくいかなかったので,.pyでやってみてください。  \n",
    "`import os`  \n",
    "`print(os.path.dirname(__file__))`"
   ]
  },
  {
   "cell_type": "markdown",
   "metadata": {},
   "source": [
    "### データの保存\n",
    "ラグランジュ点の位置や軌道の初期値など毎回計算するのは大変なのでよく使う値は保存すると楽です。以下のように使います。\n",
    "```\n",
    "import os\n",
    "import numpy as np\n",
    "#パスの作成\n",
    "dirnum = os.path.dirname(__file__)+\"/data/\"\n",
    "os.makedirs(dirnum, exist_ok=True) \n",
    "\n",
    "x = np.array([1,2,3,4])\n",
    "#データの保存\n",
    "np.save(dirnum+'title.npy', x)\n",
    "#データの呼び出し\n",
    "x = np.load(dirnum+'title.npy')\n",
    "```"
   ]
  },
  {
   "cell_type": "markdown",
   "metadata": {},
   "source": [
    "### グラフの保存\n",
    "グラフも出力と同時に保存をすると楽なので紹介する。ただし、同じ名前のファイルがあるときは自動的に上書き保存されるので注意が必要です。  \n",
    "```\n",
    "import os\n",
    "import numpy as np\n",
    "import matplotlib.pyplot as plt\n",
    "#パスの作成\n",
    "dirgraph = os.path.dirname(__file__)+\"/image/\"\n",
    "os.makedirs(dirnum, exist_ok=True) \n",
    "\n",
    "x = np.linspace(0,6,1000)\n",
    "y - np.sin(x)\n",
    "\n",
    "#グラフを作成\n",
    "fig  = plt.figure(figsize=(5,5))\n",
    "ax = fig.add_subplot()\n",
    "ax.plot(x,y)\n",
    "ax.set_xlabel('x')\n",
    "ax.set_ylabel('y')\n",
    "ax.set_title('title')\n",
    "\n",
    "#グラフの保存\n",
    "fig.savefig(dirgraph+\"title.png\")\n",
    "\n",
    "```"
   ]
  },
  {
   "cell_type": "markdown",
   "metadata": {},
   "source": []
  }
 ],
 "metadata": {
  "interpreter": {
   "hash": "798e0552d0c380f524ebdfd181ce634590e54300a2203f7c6f5e4c6344a5eb6a"
  },
  "kernelspec": {
   "display_name": "Python 3.9.7 ('base')",
   "language": "python",
   "name": "python3"
  },
  "language_info": {
   "codemirror_mode": {
    "name": "ipython",
    "version": 3
   },
   "file_extension": ".py",
   "mimetype": "text/x-python",
   "name": "python",
   "nbconvert_exporter": "python",
   "pygments_lexer": "ipython3",
   "version": "3.9.7"
  },
  "orig_nbformat": 4
 },
 "nbformat": 4,
 "nbformat_minor": 2
}

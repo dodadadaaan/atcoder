{
 "cells": [
  {
   "attachments": {},
   "cell_type": "markdown",
   "metadata": {},
   "source": [
    "### トピック４"
   ]
  },
  {
   "attachments": {},
   "cell_type": "markdown",
   "metadata": {},
   "source": [
    "A問題\n",
    "２つの整数 a と b を読み込んで、以下の値を計算するプログラムを作成して下さい：\n",
    "\n",
    "a ÷ b ： d (整数)\n",
    "a ÷ b の余り ： r (整数)\n",
    "a ÷ b ： f (浮動小数点数)\n",
    "\n",
    "1行に２つの整数 a, b が与えられます。"
   ]
  },
  {
   "cell_type": "code",
   "execution_count": null,
   "metadata": {},
   "outputs": [],
   "source": []
  }
 ],
 "metadata": {
  "language_info": {
   "name": "python"
  },
  "orig_nbformat": 4
 },
 "nbformat": 4,
 "nbformat_minor": 2
}
